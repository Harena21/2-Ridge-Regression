{
 "cells": [
  {
   "cell_type": "markdown",
   "metadata": {},
   "source": [
    "# Ridge regression"
   ]
  },
  {
   "cell_type": "code",
   "execution_count": 1,
   "metadata": {
    "deletable": false,
    "editable": false,
    "nbgrader": {
     "cell_type": "code",
     "checksum": "147b2f9e33e05a5043e655678f8b276f",
     "grade": false,
     "grade_id": "cell-b5e53c9e7911bdda",
     "locked": true,
     "schema_version": 3,
     "solution": false,
     "task": false
    }
   },
   "outputs": [],
   "source": [
    "import numpy as np\n",
    "import scipy\n",
    "from sklearn.metrics import mean_squared_error\n",
    "from sklearn import datasets\n",
    "from sklearn.linear_model import Ridge \n",
    "\n",
    "def rel_error(x, y):\n",
    "  \"\"\" returns relative error \"\"\"\n",
    "  return np.max(np.abs(x - y) / (np.maximum(1e-8, np.abs(x) + np.abs(y))))\n",
    "\n",
    "data = datasets.load_diabetes()\n",
    "X_train, y_train = data.data, data.target"
   ]
  },
  {
   "cell_type": "code",
   "execution_count": 2,
   "metadata": {
    "deletable": false,
    "nbgrader": {
     "cell_type": "code",
     "checksum": "711205bfd22df2c4563fc1d89d67c874",
     "grade": false,
     "grade_id": "cell-9eff7cc96678f670",
     "locked": false,
     "schema_version": 3,
     "solution": true,
     "task": false
    }
   },
   "outputs": [],
   "source": [
    "def fit_inverse(X, y, alpha=1.0, fit_intercept=False):\n",
    "    \"\"\"Direct method using the inverse\"\"\"\n",
    "        # this method calculate w where w = (xt . x + lambda . Id)^-1 .Xt.Y\n",
    "\n",
    "    I = np.eye(X.shape[1])\n",
    "    if(fit_intercept):\n",
    "        I[0][0] = 0\n",
    "    return scipy.linalg.inv(X.T@X+alpha*I)@X.T@y"
   ]
  },
  {
   "cell_type": "code",
   "execution_count": 3,
   "metadata": {
    "deletable": false,
    "editable": false,
    "nbgrader": {
     "cell_type": "code",
     "checksum": "849dc109770bd7180133ab390a066763",
     "grade": true,
     "grade_id": "cell-f846a8aee918f7c9",
     "locked": true,
     "points": 1,
     "schema_version": 3,
     "solution": false,
     "task": false
    }
   },
   "outputs": [
    {
     "name": "stdout",
     "output_type": "stream",
     "text": [
      "prediction error:  2.0746372694362987e-13\n"
     ]
    }
   ],
   "source": [
    "w = fit_inverse(X_train, y_train, alpha=0.1)\n",
    "\n",
    "sk_model = Ridge(fit_intercept=False, alpha=0.1)\n",
    "sk_model.fit(X_train, y_train)\n",
    "\n",
    "error = rel_error(sk_model.coef_, w)\n",
    "assert error <= 1e-11\n",
    "print(\"prediction error: \", error)"
   ]
  },
  {
   "cell_type": "code",
   "execution_count": 4,
   "metadata": {
    "deletable": false,
    "nbgrader": {
     "cell_type": "code",
     "checksum": "c758a1ca053c5170fc9e732bfc173dda",
     "grade": false,
     "grade_id": "cell-8b24702cdef3e721",
     "locked": false,
     "schema_version": 3,
     "solution": true,
     "task": false
    }
   },
   "outputs": [],
   "source": [
    "from scipy.linalg import solve_triangular\n",
    "\n",
    "def fit_qr_linear_regression(X, y):\n",
    "    \"\"\" QR approach for linear regression from previous assignement\"\"\"\n",
    "    #  QR decomposition consists in decomposing a matrix A\n",
    "    #  into two matrix Q and R where Q is a matrix orthogonal (Q^-1 = Qt ) and R is a matrix triangular superior\n",
    "    \n",
    "    #  therefore, A = Q . R\n",
    "    #  here we decompose Xt . X\n",
    "    Q,R = scipy.linalg.qr(X.T.dot(X))\n",
    "    Z = Q.T.dot(X.T.dot(y))\n",
    "    return solve_triangular(R,Z,lower=False)\n",
    "\n",
    "def fit_qr(X, y, alpha=1.0, fit_intercept=False):\n",
    "    \"\"\"QR approach\"\"\"\n",
    "    I = np.eye(X.shape[1])\n",
    "    if(fit_intercept):\n",
    "        I[0][0] = 0\n",
    "        \n",
    "    # append the sqrt(alpha) . Id to the ligne of X    \n",
    "    X = np.concatenate((X,np.sqrt(alpha)*I),axis=0)\n",
    "    \n",
    "    # append the vecteur col 0 the ligne of Y\n",
    "    y = np.concatenate((y,np.full((X.shape[1],),0)),axis=0)\n",
    "    return fit_qr_linear_regression(X,y)\n"
   ]
  },
  {
   "cell_type": "code",
   "execution_count": 5,
   "metadata": {
    "deletable": false,
    "editable": false,
    "nbgrader": {
     "cell_type": "code",
     "checksum": "d6add1fd7d491b1b208b17c668d81906",
     "grade": true,
     "grade_id": "cell-4e2cc2ac2352d713",
     "locked": true,
     "points": 1,
     "schema_version": 3,
     "solution": false,
     "task": false
    }
   },
   "outputs": [
    {
     "name": "stdout",
     "output_type": "stream",
     "text": [
      "prediction error:  8.840349559901047e-14\n"
     ]
    }
   ],
   "source": [
    "w = fit_qr(X_train, y_train, alpha=0.1)\n",
    "\n",
    "sk_model = Ridge(fit_intercept=False, alpha=0.1)\n",
    "sk_model.fit(X_train, y_train)\n",
    "\n",
    "error = rel_error(sk_model.coef_, w)\n",
    "#assert error <= 1e-11\n",
    "print(\"prediction error: \", error)"
   ]
  },
  {
   "cell_type": "code",
   "execution_count": 6,
   "metadata": {
    "deletable": false,
    "nbgrader": {
     "cell_type": "code",
     "checksum": "6db4323ffb148fc7995bf0904fffe1a5",
     "grade": false,
     "grade_id": "cell-9d32a83af0dcd96f",
     "locked": false,
     "schema_version": 3,
     "solution": true,
     "task": false
    }
   },
   "outputs": [],
   "source": [
    "def fit_svd(X, y, alpha=1.0, fit_intercept=False):\n",
    "    \"\"\"SVD approach\"\"\"\n",
    "    # this method calculate w = v . (s^2 + alpha .Id)^-1 . s . ut . y\n",
    "    # where u,s vh are the decomposition svd of X \n",
    "    I = np.eye(X.shape[1])\n",
    "    if(fit_intercept):\n",
    "        I[0][0] = 0\n",
    "        \n",
    "    U,S,Vt = scipy.linalg.svd(X)\n",
    "    Id = S**2 + alpha*np.diag(I)\n",
    "    \n",
    "    # the s returned with the method below is a vector, so we need to transpose this to a matrix diagonal\n",
    "    E = np.zeros((X.shape[0],X.shape[1]))\n",
    "    np.fill_diagonal(E,S)\n",
    "\n",
    "    return Vt.T@np.diag(1/Id)@E.T@U.T@y"
   ]
  },
  {
   "cell_type": "code",
   "execution_count": 7,
   "metadata": {
    "deletable": false,
    "editable": false,
    "nbgrader": {
     "cell_type": "code",
     "checksum": "57021201e5df07643a123e9e0d48a42f",
     "grade": true,
     "grade_id": "cell-0c38ee185ed99567",
     "locked": true,
     "points": 1,
     "schema_version": 3,
     "solution": false,
     "task": false
    }
   },
   "outputs": [
    {
     "name": "stdout",
     "output_type": "stream",
     "text": [
      "prediction error:  9.876394369032655e-14\n"
     ]
    }
   ],
   "source": [
    "w = fit_svd(X_train, y_train, alpha=0.1)\n",
    "\n",
    "sk_model = Ridge(fit_intercept=False, alpha=0.1)\n",
    "sk_model.fit(X_train, y_train)\n",
    "\n",
    "error = rel_error(sk_model.coef_, w)\n",
    "#assert error <= 1e-11\n",
    "print(\"prediction error: \", error)"
   ]
  },
  {
   "cell_type": "markdown",
   "metadata": {},
   "source": [
    "# Everything in a class"
   ]
  },
  {
   "cell_type": "code",
   "execution_count": 8,
   "metadata": {
    "deletable": false,
    "nbgrader": {
     "cell_type": "code",
     "checksum": "1bf9b4a90202871073ea8637bf407683",
     "grade": false,
     "grade_id": "cell-3a5e87709754f3c4",
     "locked": false,
     "schema_version": 3,
     "solution": true,
     "task": false
    }
   },
   "outputs": [],
   "source": [
    "class RidgeRegression():\n",
    "    def __init__(self, fit_intercept=True, method=\"inverse\", alpha=1.0):\n",
    "        self.w = 0\n",
    "        self.fit_intercept = fit_intercept # bias\n",
    "        self.method = method\n",
    "        self.alpha = alpha\n",
    "    \n",
    "    def fit(self, X, y):\n",
    "        if(self.fit_intercept):\n",
    "            X = np.concatenate((np.ones((X.shape[0],1)),X),axis=1)\n",
    "            \n",
    "        if (self.method == \"inverse\"):\n",
    "            self.w = fit_inverse(X,y,self.alpha,self.fit_intercept)\n",
    "        elif (self.method == 'qr'):\n",
    "            self.w = fit_qr(X,y,self.alpha,self.fit_intercept)\n",
    "        elif (self.method == 'svd'):\n",
    "            self.w = fit_svd(X,y,self.alpha,self.fit_intercept)   \n",
    "        \n",
    "    def predict(self, X):\n",
    "        if(self.fit_intercept):\n",
    "            b = np.ones((X.shape[0],1))\n",
    "            X = np.concatenate((b,X),axis=1)  \n",
    "            \n",
    "        return X@self.w\n"
   ]
  },
  {
   "cell_type": "markdown",
   "metadata": {},
   "source": [
    "## without bias"
   ]
  },
  {
   "cell_type": "code",
   "execution_count": 9,
   "metadata": {
    "deletable": false,
    "editable": false,
    "nbgrader": {
     "cell_type": "code",
     "checksum": "5b5da426b71c63230038418c79c0982a",
     "grade": true,
     "grade_id": "cell-1ae8a916f308fe2e",
     "locked": true,
     "points": 1,
     "schema_version": 3,
     "solution": false,
     "task": false
    }
   },
   "outputs": [
    {
     "name": "stdout",
     "output_type": "stream",
     "text": [
      "prediction error inverse:  6.806217859923249e-14\n",
      "prediction error qr:  3.1976097998133595e-14\n",
      "prediction error svd:  7.424964938098135e-14\n"
     ]
    }
   ],
   "source": [
    "# OTHER APPROACHES\n",
    "sk_model = Ridge(fit_intercept=False, alpha=0.1)\n",
    "sk_model.fit(X_train, y_train)\n",
    "sk_pred = sk_model.predict(X_train)\n",
    "\n",
    "model = RidgeRegression(fit_intercept=False, method=\"inverse\", alpha=0.1)\n",
    "model.fit(X_train, y_train)\n",
    "pred = model.predict(X_train)\n",
    "\n",
    "error = rel_error(pred, sk_pred)\n",
    "assert error <= 1e-11\n",
    "print(\"prediction error inverse: \", error)\n",
    "\n",
    "model_qr = RidgeRegression(fit_intercept=False, method=\"qr\", alpha=0.1)\n",
    "model_qr.fit(X_train, y_train)\n",
    "pred_qr = model_qr.predict(X_train)\n",
    "\n",
    "error_qr = rel_error(pred_qr, sk_pred)\n",
    "assert error_qr <= 1e-11\n",
    "print(\"prediction error qr: \", error_qr)\n",
    "\n",
    "model_svd = RidgeRegression(fit_intercept=False, method=\"svd\", alpha=0.1)\n",
    "model_svd.fit(X_train, y_train)\n",
    "pred_svd = model_svd.predict(X_train)\n",
    "\n",
    "error_svd = rel_error(pred_svd, sk_pred)\n",
    "assert error_svd <= 1e-11\n",
    "print(\"prediction error svd: \", error_svd)"
   ]
  },
  {
   "cell_type": "markdown",
   "metadata": {},
   "source": [
    "## with bias"
   ]
  },
  {
   "cell_type": "code",
   "execution_count": 10,
   "metadata": {
    "deletable": false,
    "editable": false,
    "nbgrader": {
     "cell_type": "code",
     "checksum": "5d4bbb2ebfdf1ee4c285401d0effdfec",
     "grade": true,
     "grade_id": "cell-6cc5255a96b1b63e",
     "locked": true,
     "points": 1,
     "schema_version": 3,
     "solution": false,
     "task": false
    }
   },
   "outputs": [
    {
     "name": "stdout",
     "output_type": "stream",
     "text": [
      "prediction error inverse:  5.356372472932737e-16\n",
      "prediction error qr:  1.2051838064098637e-15\n",
      "prediction error svd:  3.8833700428762474e-15\n"
     ]
    }
   ],
   "source": [
    "# OTHER APPROACHES\n",
    "sk_model = Ridge(fit_intercept=True, alpha=0.1)\n",
    "sk_model.fit(X_train, y_train)\n",
    "sk_pred = sk_model.predict(X_train)\n",
    "\n",
    "model = RidgeRegression(fit_intercept=True, method=\"inverse\", alpha=0.1)\n",
    "model.fit(X_train, y_train)\n",
    "pred = model.predict(X_train)\n",
    "\n",
    "error = rel_error(pred, sk_pred)\n",
    "assert error <= 1e-11\n",
    "print(\"prediction error inverse: \", error)\n",
    "\n",
    "model_qr = RidgeRegression(fit_intercept=True, method=\"qr\", alpha=0.1)\n",
    "model_qr.fit(X_train, y_train)\n",
    "pred_qr = model_qr.predict(X_train)\n",
    "\n",
    "error_qr = rel_error(pred_qr, sk_pred)\n",
    "#assert error_qr <= 1e-11\n",
    "print(\"prediction error qr: \", error_qr)\n",
    "\n",
    "model_svd = RidgeRegression(fit_intercept=True, method=\"svd\", alpha=0.1)\n",
    "model_svd.fit(X_train, y_train)\n",
    "pred_svd = model_svd.predict(X_train)\n",
    "\n",
    "error_svd = rel_error(pred_svd, sk_pred)\n",
    "assert error_svd <= 1e-11\n",
    "print(\"prediction error svd: \", error_svd)"
   ]
  },
  {
   "cell_type": "code",
   "execution_count": null,
   "metadata": {},
   "outputs": [],
   "source": []
  },
  {
   "cell_type": "code",
   "execution_count": null,
   "metadata": {},
   "outputs": [],
   "source": []
  }
 ],
 "metadata": {
  "kernelspec": {
   "display_name": "Python 3",
   "language": "python",
   "name": "python3"
  },
  "language_info": {
   "codemirror_mode": {
    "name": "ipython",
    "version": 3
   },
   "file_extension": ".py",
   "mimetype": "text/x-python",
   "name": "python",
   "nbconvert_exporter": "python",
   "pygments_lexer": "ipython3",
   "version": "3.7.6"
  }
 },
 "nbformat": 4,
 "nbformat_minor": 5
}
